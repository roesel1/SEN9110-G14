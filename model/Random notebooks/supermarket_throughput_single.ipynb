{
 "cells": [
  {
   "cell_type": "markdown",
   "id": "136ad980-7804-4af6-902d-2d048aea56be",
   "metadata": {},
   "source": [
    "## Throughputs Times\n",
    "\n",
    "\n",
    "Below, the supermarket simulation code. It remains largely unchanged, except for the addition of the `all_customers` list, to which each Customer component is appended on init.\n",
    "\n",
    "\n",
    "This list is used to loop through Customer components and their action logs, to extract throughput times for their supermarket visit and specific interactions:\n",
    "- cart/basket queue\n",
    "- bread queue\n",
    "- cheese and dairy queue\n",
    "- checkout queue\n"
   ]
  },
  {
   "cell_type": "code",
   "execution_count": 1,
   "id": "2eca62f0-e723-4989-8c31-0e9c4131e2af",
   "metadata": {
    "ExecuteTime": {
     "end_time": "2024-09-16T23:45:30.665405100Z",
     "start_time": "2024-09-16T23:45:26.786255300Z"
    }
   },
   "outputs": [],
   "source": [
    "import salabim as sim\n",
    "\n",
    "env = sim.Environment(time_unit='seconds')\n",
    "\n",
    "# customer_to_log = 500\n",
    "\n",
    "#Shopping baskets and carts:\n",
    "carts = env.Resource('carts', capacity=45) #45\n",
    "baskets = env.Resource('baskets', capacity=500)#several hundred\n",
    "cart_basket_distribution = sim.Pdf((carts, 0.8,baskets, 0.2))\n",
    "customer_basketcart_distribution_monitor = sim.Monitor(\"Customer basket and cart monitor\")\n",
    "#shopping categories:\n",
    "# fruit_and_vegetables \n",
    "# meat_and_fish\n",
    "# bread\n",
    "# cheese_and_dairy\n",
    "# canned_and_packed_food\n",
    "# frozen_foods\n",
    "# drinks\n",
    "item_taking_distribution = sim.Uniform(20,30)\n",
    "\n",
    "#Clerks\n",
    "#Bread and cheese use resources as they are working via counters. Checkout likely has to use queue as the customers need to choose the smallest one\n",
    "bread_clerks = env.Resource('bread_clerks', capacity=4) #4 employees, 1-6 items takes 2 min\n",
    "bread_time_distribution = sim.Exponential(2*60)\n",
    "cheese_and_dairy_clerks = env.Resource('bread_clerks', capacity=3) #3 employees, 1 min avg.\n",
    "cheese_and_dairy_time_distribution = sim.Exponential(1*60)\n",
    "\n",
    "#Checkouts\n",
    "number_of_checkouts = 3\n",
    "time_per_item_distribution = sim.Exponential(1.1)\n",
    "payment_time_distribution = sim.Uniform(40, 60)\n",
    "\n",
    "#Distributions of items per customer\n",
    "fruit_and_vegetables_distribution = sim.Triangular(4, 22,10)  # min=4, mode=10, max=22\n",
    "meat_and_fish_distribution = sim.Triangular(0, 9, 4)           # min=0, mode=4, max=9\n",
    "bread_distribution = sim.Triangular(1, 10, 4)                  # min=1, mode=4, max=10\n",
    "cheese_and_dairy_distribution = sim.Triangular(1, 11, 3)       # min=1, mode=3, max=11\n",
    "canned_and_packed_food_distribution = sim.Triangular(6, 35, 17)# min=6, mode=17, max=35\n",
    "frozen_foods_distribution = sim.Triangular(2, 19, 8)           # min=2, mode=8, max=19\n",
    "drinks_distribution = sim.Triangular(1, 20, 9)                 # min=1, mode=9, max=20\n",
    "\n",
    "#Route choice distribution\n",
    "\n",
    "#Routes\n",
    "route1 = [\n",
    "\"fruit_and_vegetables\",\n",
    "\"meat_and_fish\",\n",
    "\"bread\",\n",
    "\"cheese_and_dairy\",\n",
    "\"canned_and_packed_food\",\n",
    "\"frozen_foods\",\n",
    "\"drinks\",\n",
    "] #ABCDEF, 80% \n",
    "\n",
    "route2 = [\n",
    "\"meat_and_fish\",\n",
    "\"bread\",\n",
    "\"cheese_and_dairy\",\n",
    "\"fruit_and_vegetables\",\n",
    "\"canned_and_packed_food\",\n",
    "\"frozen_foods\",\n",
    "\"drinks\",\n",
    "] #BCDEFG, 20%\n",
    "\n",
    "route_distribution = sim.Pdf((route1, 0.8, route2, 0.2))\n",
    "\n",
    "### CHANGE HERE ###\n",
    "all_customers = []\n",
    "\n",
    "class Customer(sim.Component):\n",
    "    def __init__(self, *args, **kwargs):\n",
    "        super().__init__(*args, **kwargs)\n",
    "        self.route = route_distribution.sample()\n",
    "        self.shopping_list = {\n",
    "            \"fruit_and_vegetables\": int(round(fruit_and_vegetables_distribution.sample())),\n",
    "            \"meat_and_fish\": int(round(meat_and_fish_distribution.sample())),\n",
    "            \"bread\": int(round(bread_distribution.sample())),\n",
    "            \"cheese_and_dairy\": int(round(cheese_and_dairy_distribution.sample())),\n",
    "            \"canned_and_packed_food\": int(round(canned_and_packed_food_distribution.sample())),\n",
    "            \"frozen_foods\": int(round(frozen_foods_distribution.sample())),\n",
    "            \"drinks\": int(round(drinks_distribution.sample())),\n",
    "        }\n",
    "        self.progress = 0\n",
    "        self.carrying = None\n",
    "        self.actions_log = []\n",
    "        \n",
    "        all_customers.append(self)\n",
    "\n",
    "    def log_action(self, action):\n",
    "            \"\"\"Helper function to log an action with the current time.\"\"\"\n",
    "            self.actions_log.append((env.now(), action))\n",
    "        \n",
    "    def process(self):\n",
    "        \"\"\"\"\n",
    "        Process determines what the customer will do. At the start they will take a cart or basket. Afterwards they will traverse their route and take the items they need according to their shopping list. If they have finished their route (when progress is equal to the length of the shopping list), they will go to the checkout.\n",
    "        \"\"\"\n",
    "        self.start_shopping()\n",
    "        for next_product in self.route:\n",
    "            if self.shopping_list[next_product]>0:\n",
    "                self.get_product(next_product)   \n",
    "        self.go_to_checkout()\n",
    "            \n",
    "    def start_shopping(self):\n",
    "        #Get shopping cart or basket\n",
    "        want_to_carry = cart_basket_distribution.sample()\n",
    "        self.log_action(f\"Entered cart/basket queue for {want_to_carry}\")\n",
    "        self.request(want_to_carry)\n",
    "        customer_basketcart_distribution_monitor.tally(want_to_carry)\n",
    "        self.log_action(f\"Got {want_to_carry}\")\n",
    "        self.carrying = want_to_carry\n",
    "        \n",
    "    def go_to_checkout(self):\n",
    "        #enter emptiest queue\n",
    "        emptiest_queue = min(checkouts, key=lambda checkout: checkout.requesters().length()) \n",
    "        self.log_action(f\"Entered checkout queue {emptiest_queue}\")\n",
    "        self.request(emptiest_queue) \n",
    "        self.log_action(f\"Started checking out\")\n",
    "        item_scan_time = sum(time_per_item_distribution.sample() for _ in range(sum(self.shopping_list.values())))\n",
    "        self.hold(item_scan_time+payment_time_distribution.sample()) #hold the customer for scanning all items and during payment\n",
    "        self.log_action(f\"Finished checking out\")\n",
    "        #return cart/basket       \n",
    "        #print log if we want to debug\n",
    "        '''\n",
    "        if customer_to_log:\n",
    "            if self.name() == f\"customer.{customer_to_log}\":\n",
    "                print(self.carrying.claimers().print_info())\n",
    "                print(f\"Customer's Action Log for customer {self.name()}:\")\n",
    "                for time, action in self.actions_log:\n",
    "                    print(self)\n",
    "                    print(f\"At time {time}, customer: {action}\")\n",
    "        '''\n",
    "        \n",
    "    def get_product(self, product):\n",
    "        #Move to product location #<- only needed in animation\n",
    "        if product == \"cheese_and_dairy\":\n",
    "            self.log_action(f\"requesting cheese and dairy\")\n",
    "            self.request(cheese_and_dairy_clerks)\n",
    "            self.log_action(f\"Being helped for cheese and dairy\")\n",
    "            self.hold(cheese_and_dairy_distribution.sample())\n",
    "            self.log_action(f\"Got cheese and dairy\")\n",
    "            self.release(cheese_and_dairy_clerks)\n",
    "        elif product == \"bread\":\n",
    "            self.log_action(f\"requesting bread\")\n",
    "            self.request(bread_clerks)\n",
    "            self.log_action(f\"Being helped for bread\")\n",
    "            self.hold(bread_time_distribution.sample())\n",
    "            self.log_action(f\"Got bread\")\n",
    "            self.release(bread_clerks)\n",
    "        else:\n",
    "            amount = self.shopping_list[product]\n",
    "            self.log_action(f\"Getting {product}\")\n",
    "            for _ in range(amount):\n",
    "                self.hold(time_per_item_distribution.sample())\n",
    "                self.log_action(f\"Got {product}\")\n",
    "\n",
    "#customer generation\n",
    "customer_distribution = [30, 80, 110, 90, 80, 70, 80, 90, 100, 120, 90, 40] #Expected total = 980\n",
    "for index, customer_count  in enumerate(customer_distribution):\n",
    "    env.ComponentGenerator(Customer, iat=env.Exponential(3600/customer_count), at=index*60*60, duration=60*60) #assumes time in seconds\n",
    "    # print(customer_count)\n",
    "customer_arrival_monitor = sim.Monitor(\"Customer arrival monitor\")\n",
    "\n",
    "checkouts = [] #dictionary to map checkouts to clerks\n",
    "for i in range(number_of_checkouts):\n",
    "    checkouts.append(env.Resource(f\"checkout_clerk{i}\", capacity = 1)) #3, 1.1s per item avg. payment 40-60s\n",
    "\n",
    "env.run(duration=60*60*12)"
   ]
  },
  {
   "cell_type": "markdown",
   "id": "d57c5dcc-8901-4de0-a3f7-01b43e3b955c",
   "metadata": {},
   "source": [
    "---\n",
    "### Average Throughput\n",
    "\n",
    "The first and last actions of the action_log for any Customer are the 'Entered cart/basket queue' and 'Finished checking out'. Their respective timestamps represent the beginning and end of the Customer's visit to the supermarket, and thus the time passing between these timestamps is the throughput.\n",
    "\n",
    "The current model implementation has a problem: there are customers that are \"stuck\" in the supermarket, because the 12 hours are up before they are checked out. These should not be considered, as their [-1] timestamps may not be the end of their shopping time."
   ]
  },
  {
   "cell_type": "code",
   "execution_count": 2,
   "id": "d20da10d-6223-4412-ba31-2a0d373337ea",
   "metadata": {
    "tags": [],
    "ExecuteTime": {
     "end_time": "2024-09-16T23:45:30.681942300Z",
     "start_time": "2024-09-16T23:45:30.671144500Z"
    }
   },
   "outputs": [
    {
     "name": "stdout",
     "output_type": "stream",
     "text": [
      "The average Customer visit lasted a total of 1009.28 seconds, or 16.82 minutes.\n"
     ]
    }
   ],
   "source": [
    "# Initializing empty throughput list\n",
    "throughput_times = []\n",
    "\n",
    "# Loop over customers in the list\n",
    "for customer in all_customers:\n",
    "    # If the customer's last action is not 'Finished checking out', they aren't taken into account\n",
    "    if customer.actions_log[-1][1] != 'Finished checking out':\n",
    "        continue\n",
    "    # Double indexing: first for the number of the action, second for the timestamp\n",
    "    # If the second index is [1], the action name is selected (instead of the env.now() result)\n",
    "    first_action_time = customer.actions_log[0][0]\n",
    "    last_action_time = customer.actions_log[-1][0]\n",
    "    # Throughput calculation and appending to main list\n",
    "    throughput_time = last_action_time - first_action_time\n",
    "    throughput_times.append(throughput_time)\n",
    "\n",
    "average_throughput = sum(throughput_times) / len(throughput_times)\n",
    "\n",
    "print(f'The average Customer visit lasted a total of {round(average_throughput, 2)} seconds, or {round(average_throughput/60, 2)} minutes.')"
   ]
  },
  {
   "cell_type": "markdown",
   "id": "605fe4fe-e77b-4e68-8a7f-14129bcf618f",
   "metadata": {
    "tags": []
   },
   "source": [
    "---\n",
    "### Average Cart/Basket queue\n",
    "\n",
    "For the initial queue throughput, a similar idea can be applied. The first and second actions in the log are always 'Entered cart/basket queue' and 'Got Resource' (either a cart or a basket). The average throughput can be calculated just like before."
   ]
  },
  {
   "cell_type": "code",
   "execution_count": 3,
   "id": "a850a7a4-cb89-49a4-a11d-df20006dc7c4",
   "metadata": {
    "tags": [],
    "ExecuteTime": {
     "end_time": "2024-09-16T23:45:30.684869100Z",
     "start_time": "2024-09-16T23:45:30.678112600Z"
    }
   },
   "outputs": [
    {
     "name": "stdout",
     "output_type": "stream",
     "text": [
      "Customers waited for a basket/cart for an average of 0.0 seconds, or 0.0 minutes.\n"
     ]
    }
   ],
   "source": [
    "cb_q_times = []\n",
    "\n",
    "for customer in all_customers:\n",
    "    \n",
    "    enter_cb_q_time = customer.actions_log[0][0]\n",
    "    leave_cb_q_time = customer.actions_log[1][0]\n",
    "\n",
    "    cb_q_time = leave_cb_q_time - enter_cb_q_time\n",
    "    cb_q_times.append(cb_q_time)\n",
    "\n",
    "average_cb_q_time = sum(cb_q_times) / len(cb_q_times)\n",
    "\n",
    "print(f'Customers waited for a basket/cart for an average of {round(average_cb_q_time, 2)} seconds, or {round(average_cb_q_time/60, 2)} minutes.')"
   ]
  },
  {
   "cell_type": "markdown",
   "id": "baa1d84d-44ef-455e-9fe7-5eb79eac0ba1",
   "metadata": {},
   "source": [
    "##### This finding leads me to believe that no customers ever waited for either a cart or a basket. I don't know if this is realistic."
   ]
  },
  {
   "cell_type": "markdown",
   "id": "db95f895-9ce3-4747-987f-d9f97c767062",
   "metadata": {
    "tags": []
   },
   "source": [
    "---\n",
    "### Bread and Dairy queues\n",
    "\n",
    "For these throughputs, the difference between the 'Requesting bread/dairy' action and the 'Got bread/dairy' is the throughput. The 'getting helped' action happens at the same env.now() instant as the request, so it isn't relevant."
   ]
  },
  {
   "cell_type": "code",
   "execution_count": 4,
   "id": "b4caad2b-a60d-4916-ab95-769bff674f19",
   "metadata": {
    "tags": [],
    "ExecuteTime": {
     "end_time": "2024-09-16T23:45:30.780083Z",
     "start_time": "2024-09-16T23:45:30.692038900Z"
    }
   },
   "outputs": [
    {
     "name": "stdout",
     "output_type": "stream",
     "text": [
      "Customers waited for an average of 242.54 seconds at bread clerk, or 4.04 minutes.\n"
     ]
    }
   ],
   "source": [
    "bread_q_times = []\n",
    "\n",
    "for customer in all_customers:\n",
    "    for time, action in customer.actions_log:\n",
    "        if action == 'requesting bread':\n",
    "            bread_q_start = time\n",
    "        if action == 'Got bread':\n",
    "            bread_q_finish = time\n",
    "\n",
    "    bread_q = bread_q_finish - bread_q_start\n",
    "    bread_q_times.append(bread_q)\n",
    "\n",
    "average_bread_q_time = sum(bread_q_times) / len(bread_q_times)\n",
    "print(f'Customers waited for an average of {round(average_bread_q_time, 2)} seconds at bread clerk, or {round(average_bread_q_time/60, 2)} minutes.')"
   ]
  },
  {
   "cell_type": "code",
   "execution_count": 5,
   "id": "35945794-8df3-4ecc-a747-66782e0a1c8a",
   "metadata": {
    "tags": [],
    "ExecuteTime": {
     "end_time": "2024-09-16T23:45:30.849007Z",
     "start_time": "2024-09-16T23:45:30.715160600Z"
    }
   },
   "outputs": [
    {
     "name": "stdout",
     "output_type": "stream",
     "text": [
      "Customers waited for an average of 4.9 seconds at cheese and dairy clerk, or 0.08 minutes.\n"
     ]
    }
   ],
   "source": [
    "dairy_q_times = []\n",
    "\n",
    "for customer in all_customers:\n",
    "    for time, action in customer.actions_log:\n",
    "        if action == 'requesting cheese and dairy':\n",
    "            dairy_q_start = time\n",
    "        if action == 'Got cheese and dairy':\n",
    "            dairy_q_finish = time\n",
    "\n",
    "    dairy_q = dairy_q_finish - dairy_q_start\n",
    "    dairy_q_times.append(dairy_q)\n",
    "\n",
    "average_dairy_q_time = sum(dairy_q_times) / len(dairy_q_times)\n",
    "print(f'Customers waited for an average of {round(average_dairy_q_time, 2)} seconds at cheese and dairy clerk, or {round(average_dairy_q_time/60, 2)} minutes.')"
   ]
  },
  {
   "cell_type": "markdown",
   "id": "c7bf21a4-5d9f-409d-82d6-26c9262c244a",
   "metadata": {},
   "source": [
    "---\n",
    "### Checkout queue\n",
    "\n",
    "For the checkout queues, same principle as total throughput and carts/basket queue applies. The third to last action of every log is 'Entered checkout queue', followed by the number of the checkout chosen. The checkout throughput can either be from this action's timestamp to the second to last, 'Started checking out', or the final one, 'Finished checking out'. This depends on what the definition is.\n",
    "\n",
    "The third to last action can also be used to gather clerk utilization data. The second to last character of the action string is the number of checkout used; the usage percentage of each checkout can be extracted this way."
   ]
  },
  {
   "cell_type": "code",
   "execution_count": 6,
   "id": "cdded13b-d226-4fc4-8cb3-9ea68b2eaaf1",
   "metadata": {
    "tags": [],
    "ExecuteTime": {
     "end_time": "2024-09-16T23:45:30.850004500Z",
     "start_time": "2024-09-16T23:45:30.744538800Z"
    }
   },
   "outputs": [
    {
     "name": "stdout",
     "output_type": "stream",
     "text": [
      "Customers waited at the checkout for an average of 577.39 seconds, or 9.62 minutes.\n",
      "\n",
      "Checkout 0 was used 343 times, which is 35.65% of the total utilization.\n",
      "Checkout 1 was used 321 times, which is 33.37% of the total utilization.\n",
      "Checkout 2 was used 298 times, which is 30.98% of the total utilization.\n"
     ]
    }
   ],
   "source": [
    "checkout_q_times = []\n",
    "checkout_utilization = {'0': 0, '1': 0, '2': 0}\n",
    "total_checkouts = 0\n",
    "\n",
    "for customer in all_customers:\n",
    "    \n",
    "    if customer.actions_log[-1][1] != 'Finished checking out':\n",
    "        continue\n",
    "    \n",
    "    enter_checkout_q_time = customer.actions_log[-3][0]\n",
    "    leave_checkout_q_time = customer.actions_log[-2][0]\n",
    "    \n",
    "    checkout_q_time = leave_checkout_q_time - enter_checkout_q_time\n",
    "    checkout_q_times.append(checkout_q_time)\n",
    "    \n",
    "    # Triple index, this time pointing to the second to last character of the action string\n",
    "    used_checkout = customer.actions_log[-3][1][-2]\n",
    "    checkout_utilization[used_checkout] += 1\n",
    "    total_checkouts += 1\n",
    "\n",
    "average_checkout_q_time = sum(checkout_q_times) / len(checkout_q_times)\n",
    "\n",
    "print(f'Customers waited at the checkout for an average of {round(average_checkout_q_time, 2)} seconds, or {round(average_checkout_q_time/60, 2)} minutes.\\n')\n",
    "\n",
    "for k,v in checkout_utilization.items():\n",
    "    print(f'Checkout {k} was used {v} times, which is {round(v/total_checkouts*100, 2)}% of the total utilization.')"
   ]
  }
 ],
 "metadata": {
  "kernelspec": {
   "display_name": "Python 3 (ipykernel)",
   "language": "python",
   "name": "python3"
  },
  "language_info": {
   "codemirror_mode": {
    "name": "ipython",
    "version": 3
   },
   "file_extension": ".py",
   "mimetype": "text/x-python",
   "name": "python",
   "nbconvert_exporter": "python",
   "pygments_lexer": "ipython3",
   "version": "3.11.4"
  }
 },
 "nbformat": 4,
 "nbformat_minor": 5
}
